{
 "cells": [
  {
   "cell_type": "markdown",
   "metadata": {},
   "source": [
    "- run Terminal `npm start`\n",
    "   - Cài đặt Node.js và npm**: Tải xuống và cài đặt từ [trang web chính thức của Node.js](https://nodejs.org/).\n",
    "Kiểm tra đã được cài đặt chưa: `node -v` và `npm -v`\n",
    "   - Sau khi cài đặt, đảm bảo rằng đường dẫn đến Node.js và npm đã được thêm vào PATH của hệ thống.\n",
    "   - bug: \n",
    "   \n",
    "      ```\n",
    "      AME_Automated_essay_grading_tool> npm start\n",
    "\n",
    "      > noname_automated_essay_grading_tool@1.0.0 start\n",
    "      > nodemon index.js\n",
    "\n",
    "      'nodemon' is not recognized as an internal or external command,     \n",
    "      operable program or batch file.\n",
    "      ```\n",
    "         => Lỗi này xảy ra vì nodemon không được cài đặt hoặc không được nhận diện trong PATH của bạn. nodemon là một công cụ giúp tự động khởi động lại ứng dụng Node.js khi phát hiện có sự thay đổi trong mã nguồn.\n",
    "         =>  **Cài đặt `nodemon`**:\n",
    "               - Mở terminal và chạy lệnh:\n",
    "               ```sh\n",
    "               npm install -g nodemon\n",
    "               ```\n",
    "               \n",
    "   - bug: `Error: Cannot find module 'express'` => Cài đặt các dependencies:\n",
    "Chạy lệnh sau trong thư mục gốc của dự án để cài đặt tất cả các dependencies được liệt kê trong `package.json`: `npm install\n",
    "`  - bug: \n",
    "```\n",
    "ading_tool> npx nodemon index.js\n",
    "The system cannot find the path specified.\n",
    "The system cannot find the path specified.\n",
    "node:internal/modules/cjs/loader:1148\n",
    "  throw err;\n",
    "  ^\n",
    "\n",
    "Error: Cannot find module 'D:\\OneDrive - Hanoi University of Science and Technology\\nodemon\\bin\\nodemon.js'\n",
    "    at Module._resolveFilename (node:internal/modules/cjs/loader:1145:15)      \n",
    "    at Module._load (node:internal/modules/cjs/loader:986:27)\n",
    "    at Function.executeUserEntryPoint [as runMain] (node:internal/modules/run_main:174:12)\n",
    "    at node:internal/main/run_main_module:28:49 {\n",
    "  code: 'MODULE_NOT_FOUND',\n",
    "  requireStack: []\n",
    "}\n",
    "\n",
    "Node.js v20.13.1\n",
    "```\n",
    "=> Kiểm tra tệp package.json:\n",
    "\n",
    "Đảm bảo rằng nodemon đã được thêm vào devDependencies trong tệp package.json:\n",
    "4. **Chạy ứng dụng**:\n",
    "   - Trong terminal, điều hướng đến thư mục dự án của bạn và chạy:\n",
    "     ```sh\n",
    "     npm start\n",
    "     ```\n",
    "\n",
    "Hoàn tất!"
   ]
  },
  {
   "cell_type": "code",
   "execution_count": null,
   "metadata": {},
   "outputs": [],
   "source": []
  }
 ],
 "metadata": {
  "language_info": {
   "name": "python"
  }
 },
 "nbformat": 4,
 "nbformat_minor": 2
}
